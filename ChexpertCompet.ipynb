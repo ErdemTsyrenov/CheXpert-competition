{
 "cells": [
  {
   "cell_type": "code",
   "execution_count": 0,
   "metadata": {
    "colab": {},
    "colab_type": "code",
    "id": "2CGcsJK2ruJz"
   },
   "outputs": [],
   "source": [
    "# Import PyDrive and associated libraries.\n",
    "# This only needs to be done once per notebook.\n",
    "from pydrive.auth import GoogleAuth\n",
    "from pydrive.drive import GoogleDrive\n",
    "from google.colab import auth\n",
    "from oauth2client.client import GoogleCredentials\n",
    "\n",
    "# Authenticate and create the PyDrive client.\n",
    "# This only needs to be done once per notebook.\n",
    "auth.authenticate_user()\n",
    "gauth = GoogleAuth()\n",
    "gauth.credentials = GoogleCredentials.get_application_default()\n",
    "drive = GoogleDrive(gauth)\n",
    "\n",
    "# Download a file based on its file ID.\n",
    "#\n",
    "# A file ID looks like: laggVyWshwcyP6kEI-y_W3P8D26sz\n",
    "file_id = '1JmKH5iYX4Hw6lDhMOXr74soCQMO2pUjI'\n",
    "downloaded = drive.CreateFile({'id': file_id})\n",
    "downloaded.GetContentFile('Data.zip')\n",
    "!unzip Data.zip > /dev/null\n",
    "del downloaded\n"
   ]
  },
  {
   "cell_type": "markdown",
   "metadata": {
    "colab_type": "text",
    "id": "MQQrIyjsi9wr"
   },
   "source": [
    "# Upload and prepare data"
   ]
  },
  {
   "cell_type": "code",
   "execution_count": 0,
   "metadata": {
    "colab": {},
    "colab_type": "code",
    "id": "qwPVzFzpItIP"
   },
   "outputs": [],
   "source": [
    "import pandas as pd\n",
    "from PIL import Image\n",
    "import torchvision\n",
    "import torch\n",
    "import random\n",
    "import numpy as np\n",
    "\n",
    "random.seed(0)\n",
    "np.random.seed(0)\n",
    "torch.manual_seed(0)\n",
    "torch.cuda.manual_seed(0)\n",
    "torch.backends.cudnn.determenistic = True\n",
    "\n",
    "train_sheet = pd.read_csv('CheXpert-v1.0-small/train.csv')\n",
    "classes = ['No Finding', 'Atelectasis', 'Cardiomegaly', 'Consolidation','Edema', 'Pleural Effusion', 'Enlarged Cardiomediastinum',  'Lung Opacity',\n",
    "'Lung Lesion', 'Pneumonia', 'Pneumothorax',  'Pleural Other', 'Fracture']\n"
   ]
  },
  {
   "cell_type": "code",
   "execution_count": 0,
   "metadata": {
    "colab": {},
    "colab_type": "code",
    "id": "UNa28ymTtUUr"
   },
   "outputs": [],
   "source": [
    "def to_listImage(pillowImage):\n",
    "  pixels = pillowImage.load()\n",
    "  width, height = pillowImage.size\n",
    "  listImage = []\n",
    "  for j in range(height):\n",
    "    currentRow = []\n",
    "    for i in range(width):\n",
    "      currentRow.append(pixels[i,j])\n",
    "    listImage.append(currentRow)\n",
    "  return listImage"
   ]
  },
  {
   "cell_type": "code",
   "execution_count": 0,
   "metadata": {
    "colab": {},
    "colab_type": "code",
    "id": "2kfJB-bfAWXE"
   },
   "outputs": [],
   "source": [
    "def uploadData(sheet, start_index, batch_size):\n",
    "  x_batch = []\n",
    "  y_batch = []\n",
    "\n",
    "  for i in range (start_index, start_index + batch_size, 1):\n",
    "      if ((i + 1) >= len(sheet['Path'])):\n",
    "        break\n",
    "\n",
    "      currentImg = Image.open(sheet['Path'][i])\n",
    "      currentImg = currentImg.resize((384, 320))\n",
    "      currentImg = to_listImage(currentImg)\n",
    "      x_batch.append(currentImg)\n",
    "      currentLabels = []\n",
    "      for disease in classes:\n",
    "        if (sheet[disease][i] == 1):\n",
    "          currentLabels.append(1)\n",
    "        else:\n",
    "          currentLabels.append(0)\n",
    "      y_batch.append(currentLabels)\n",
    "\n",
    "  return (x_batch, y_batch)\n",
    "  \n",
    "   "
   ]
  },
  {
   "cell_type": "code",
   "execution_count": 0,
   "metadata": {
    "colab": {},
    "colab_type": "code",
    "id": "uOJsljPBzJA3"
   },
   "outputs": [],
   "source": [
    "import matplotlib.pyplot as plt\n",
    "\n",
    "def show_tensorImage(tensorImage, title = ''):\n",
    "    image = tensorImage.numpy()\n",
    "    plt.imshow(image)\n",
    "    plt.title(title)\n",
    "    plt.show()\n",
    "    plt.pause(0.001)"
   ]
  },
  {
   "cell_type": "markdown",
   "metadata": {},
   "source": [
    "# Training"
   ]
  },
  {
   "cell_type": "code",
   "execution_count": 0,
   "metadata": {
    "colab": {},
    "colab_type": "code",
    "id": "iIoOs9fqdiIF"
   },
   "outputs": [],
   "source": [
    "device = torch.device('cuda:0')\n",
    "model = torchvision.models.densenet121(pretrained = False)\n",
    "model.features.conv0 = torch.nn.Conv2d(1, 64, kernel_size=7, stride = 2, padding = (3,3), bias=False)\n",
    "model.classifier = torch.nn.Linear(in_features = 1024, out_features=13)\n",
    "model = model.to(device)\n",
    "optimizer = torch.optim.Adam(model.parameters(),lr = 1e-3, amsgrad=True)\n",
    "sched = torch.optim.lr_scheduler.StepLR(optimizer, step_size=100)\n",
    "loss = torch.nn.MultiLabelSoftMarginLoss()\n",
    "\n"
   ]
  },
  {
   "cell_type": "code",
   "execution_count": 0,
   "metadata": {
    "colab": {},
    "colab_type": "code",
    "id": "W4c-2sBnCsTo"
   },
   "outputs": [],
   "source": [
    "def evaluateCompetitiveAccuracy(pred_classes, target):\n",
    "  num_values = pred_classes.shape[0]*5\n",
    "  total = 0\n",
    "  for i in range(len(pred_classes)):\n",
    "    for j in range(1,6):\n",
    "      total += (pred_classes[i][j] == target[i][j]).float().cpu()\n",
    "  return total/num_values        "
   ]
  },
  {
   "cell_type": "code",
   "execution_count": 0,
   "metadata": {
    "colab": {},
    "colab_type": "code",
    "id": "qSCr2bngUdxr"
   },
   "outputs": [],
   "source": [
    "def evaluateClass(pred):\n",
    "  classes = pred\n",
    "  for j in range(len(classes)):\n",
    "    for i in range(len(classes[j])):\n",
    "      if (classes[j][i] > 0.5):\n",
    "        classes[j][i] = 1.0\n",
    "      else:\n",
    "        classes[j][i] = 0.0\n",
    "  return classes"
   ]
  },
  {
   "cell_type": "code",
   "execution_count": 0,
   "metadata": {
    "colab": {},
    "colab_type": "code",
    "id": "9hiJGjs335Fl"
   },
   "outputs": [],
   "source": [
    "x, y = uploadData(train_sheet, 0, 20)\n",
    "x = torch.FloatTensor(x)"
   ]
  },
  {
   "cell_type": "code",
   "execution_count": 0,
   "metadata": {
    "colab": {},
    "colab_type": "code",
    "id": "d2BjrgWw4BDt"
   },
   "outputs": [],
   "source": []
  },
  {
   "cell_type": "code",
   "execution_count": 0,
   "metadata": {
    "colab": {},
    "colab_type": "code",
    "id": "4f2HVX4v10EC"
   },
   "outputs": [],
   "source": [
    "def transform_list(listX, listY, device):\n",
    "  tensorX = torch.FloatTensor(listX)\n",
    "  tensorX.unsqueeze_(1)\n",
    "  tensorX = tensorX/255\n",
    "  tensorX = (tensorX - 0.229)/0.485\n",
    "  tensorY = torch.LongTensor(listY)\n",
    "  tensorX = tensorX.to(device)\n",
    "  tensorY = tensorY.to(device)\n",
    "  return (tensorX, tensorY)"
   ]
  },
  {
   "cell_type": "code",
   "execution_count": 0,
   "metadata": {
    "colab": {},
    "colab_type": "code",
    "id": "naCl328d5208"
   },
   "outputs": [],
   "source": [
    "import math\n",
    "loss_history = []\n",
    "accuracy_history = []\n",
    "def train_model(num_epochs, batch_size):\n",
    "  for ep in range(num_epochs):\n",
    "    print('Epoch {}/{}:'.format(ep, num_epochs - 1), flush=True)\n",
    "    accuracy_ep = 0\n",
    "    loss_ep = 0\n",
    "    for phase in ['train']:\n",
    "      start_index = 0\n",
    "      if (phase == 'train'):\n",
    "        sheet = pd.read_csv('CheXpert-v1.0-small/train.csv')\n",
    "        model.train()\n",
    "        optimizer.zero_grad()\n",
    "      else:\n",
    "        sheet = pd.read_csv('CheXpert-v1.0-small/valid.csv')\n",
    "        model.eval()\n",
    "      num_batches = math.floor(len(sheet['Path'])/batch_size)\n",
    "      while start_index < len(sheet['Path']):\n",
    "        x_batch, y_batch = uploadData(sheet, start_index, batch_size)\n",
    "        start_index += batch_size\n",
    "        if len(x_batch) < batch_size:\n",
    "          break                #такой случай возможен только для последнего батча, который почти во всех случаях будет неполным\n",
    "       \n",
    "        x_batch, y_batch = transform_list(x_batch, y_batch, device)    \n",
    "        pred = model(x_batch)\n",
    "        pred = torch.sigmoid(pred)\n",
    "        loss_val = loss(pred, y_batch)\n",
    "        if (phase == 'train'):\n",
    "          loss_val.backward()\n",
    "          optimizer.step()\n",
    "          sched.step()\n",
    "\n",
    "        pred_classes = evaluateClass(pred)\n",
    "        \n",
    "        run_accuracy = evaluateCompetitiveAccuracy(pred_classes, y_batch.data)\n",
    "        run_loss = loss_val.item()\n",
    "        accuracy_ep += run_accuracy\n",
    "        loss_ep += run_loss\n",
    "        loss_history.append(run_loss)\n",
    "        accuracy_history.append(run_accuracy)\n",
    "        del x_batch\n",
    "        del y_batch\n",
    "        torch.cuda.empty_cache()\n",
    "        if (start_index % 2000 == 0):\n",
    "          print('epoch = ', ep)\n",
    "          print('phase = ', phase)\n",
    "          print(start_index,'accuracy = ', run_accuracy)\n",
    "          print(start_index,'loss = ', run_loss)\n",
    "          print('\\n')\n",
    "      print(phase, 'epoch accuracy = ', accuracy_ep/num_batches)\n",
    "      print(phase, 'epoch loss = ', loss_ep/num_batches)\n",
    "    \n",
    "    print(ep, 'epoch done!')\n"
   ]
  },
  {
   "cell_type": "code",
   "execution_count": 0,
   "metadata": {
    "colab": {
     "base_uri": "https://localhost:8080/",
     "height": 1000
    },
    "colab_type": "code",
    "id": "c99nLwl7D7W5",
    "outputId": "8fba675d-486c-4ec7-d011-a1f6e5ce5494"
   },
   "outputs": [
    {
     "name": "stdout",
     "output_type": "stream",
     "text": [
      "Epoch 0/9:\n",
      "epoch =  0\n",
      "phase =  train\n",
      "2000 accuracy =  tensor(0.9300)\n",
      "2000 loss =  0.6931473016738892\n",
      "\n",
      "\n",
      "epoch =  0\n",
      "phase =  train\n",
      "4000 accuracy =  tensor(0.8100)\n",
      "4000 loss =  0.6931473016738892\n",
      "\n",
      "\n",
      "epoch =  0\n",
      "phase =  train\n",
      "6000 accuracy =  tensor(0.8300)\n",
      "6000 loss =  0.6931473016738892\n",
      "\n",
      "\n",
      "epoch =  0\n",
      "phase =  train\n",
      "8000 accuracy =  tensor(0.7200)\n",
      "8000 loss =  0.6931473016738892\n",
      "\n",
      "\n",
      "epoch =  0\n",
      "phase =  train\n",
      "10000 accuracy =  tensor(0.7600)\n",
      "10000 loss =  0.6931473016738892\n",
      "\n",
      "\n",
      "epoch =  0\n",
      "phase =  train\n",
      "12000 accuracy =  tensor(0.7700)\n",
      "12000 loss =  0.6931473016738892\n",
      "\n",
      "\n",
      "epoch =  0\n",
      "phase =  train\n",
      "14000 accuracy =  tensor(0.7600)\n",
      "14000 loss =  0.6931473016738892\n",
      "\n",
      "\n",
      "epoch =  0\n",
      "phase =  train\n",
      "16000 accuracy =  tensor(0.8000)\n",
      "16000 loss =  0.6931473016738892\n",
      "\n",
      "\n",
      "epoch =  0\n",
      "phase =  train\n",
      "18000 accuracy =  tensor(0.8200)\n",
      "18000 loss =  0.6931473016738892\n",
      "\n",
      "\n",
      "epoch =  0\n",
      "phase =  train\n",
      "20000 accuracy =  tensor(0.7900)\n",
      "20000 loss =  0.6931473016738892\n",
      "\n",
      "\n",
      "epoch =  0\n",
      "phase =  train\n",
      "22000 accuracy =  tensor(0.9000)\n",
      "22000 loss =  0.6931473016738892\n",
      "\n",
      "\n",
      "epoch =  0\n",
      "phase =  train\n",
      "24000 accuracy =  tensor(0.6200)\n",
      "24000 loss =  0.6931473016738892\n",
      "\n",
      "\n",
      "epoch =  0\n",
      "phase =  train\n",
      "26000 accuracy =  tensor(0.8300)\n",
      "26000 loss =  0.6931473016738892\n",
      "\n",
      "\n",
      "epoch =  0\n",
      "phase =  train\n",
      "28000 accuracy =  tensor(0.8400)\n",
      "28000 loss =  0.6931473016738892\n",
      "\n",
      "\n",
      "epoch =  0\n",
      "phase =  train\n",
      "30000 accuracy =  tensor(0.9000)\n",
      "30000 loss =  0.6931473016738892\n",
      "\n",
      "\n"
     ]
    },
    {
     "ename": "KeyboardInterrupt",
     "evalue": "ignored",
     "output_type": "error",
     "traceback": [
      "\u001b[0;31m---------------------------------------------------------------------------\u001b[0m",
      "\u001b[0;31mKeyboardInterrupt\u001b[0m                         Traceback (most recent call last)",
      "\u001b[0;32m<ipython-input-12-5650cea2c516>\u001b[0m in \u001b[0;36m<module>\u001b[0;34m()\u001b[0m\n\u001b[0;32m----> 1\u001b[0;31m \u001b[0mtrain_model\u001b[0m\u001b[0;34m(\u001b[0m\u001b[0;36m10\u001b[0m\u001b[0;34m,\u001b[0m \u001b[0;36m20\u001b[0m\u001b[0;34m)\u001b[0m\u001b[0;34m\u001b[0m\u001b[0;34m\u001b[0m\u001b[0m\n\u001b[0m",
      "\u001b[0;32m<ipython-input-11-a55a4ecc5a22>\u001b[0m in \u001b[0;36mtrain_model\u001b[0;34m(num_epochs, batch_size)\u001b[0m\n\u001b[1;32m     29\u001b[0m         \u001b[0;32mif\u001b[0m \u001b[0;34m(\u001b[0m\u001b[0mphase\u001b[0m \u001b[0;34m==\u001b[0m \u001b[0;34m'train'\u001b[0m\u001b[0;34m)\u001b[0m\u001b[0;34m:\u001b[0m\u001b[0;34m\u001b[0m\u001b[0;34m\u001b[0m\u001b[0m\n\u001b[1;32m     30\u001b[0m           \u001b[0mloss_val\u001b[0m\u001b[0;34m.\u001b[0m\u001b[0mbackward\u001b[0m\u001b[0;34m(\u001b[0m\u001b[0;34m)\u001b[0m\u001b[0;34m\u001b[0m\u001b[0;34m\u001b[0m\u001b[0m\n\u001b[0;32m---> 31\u001b[0;31m           \u001b[0moptimizer\u001b[0m\u001b[0;34m.\u001b[0m\u001b[0mstep\u001b[0m\u001b[0;34m(\u001b[0m\u001b[0;34m)\u001b[0m\u001b[0;34m\u001b[0m\u001b[0;34m\u001b[0m\u001b[0m\n\u001b[0m\u001b[1;32m     32\u001b[0m           \u001b[0msched\u001b[0m\u001b[0;34m.\u001b[0m\u001b[0mstep\u001b[0m\u001b[0;34m(\u001b[0m\u001b[0;34m)\u001b[0m\u001b[0;34m\u001b[0m\u001b[0;34m\u001b[0m\u001b[0m\n\u001b[1;32m     33\u001b[0m \u001b[0;34m\u001b[0m\u001b[0m\n",
      "\u001b[0;32m/usr/local/lib/python3.6/dist-packages/torch/optim/lr_scheduler.py\u001b[0m in \u001b[0;36mwrapper\u001b[0;34m(*args, **kwargs)\u001b[0m\n\u001b[1;32m     49\u001b[0m                 \u001b[0minstance\u001b[0m\u001b[0;34m.\u001b[0m\u001b[0m_step_count\u001b[0m \u001b[0;34m+=\u001b[0m \u001b[0;36m1\u001b[0m\u001b[0;34m\u001b[0m\u001b[0;34m\u001b[0m\u001b[0m\n\u001b[1;32m     50\u001b[0m                 \u001b[0mwrapped\u001b[0m \u001b[0;34m=\u001b[0m \u001b[0mfunc\u001b[0m\u001b[0;34m.\u001b[0m\u001b[0m__get__\u001b[0m\u001b[0;34m(\u001b[0m\u001b[0minstance\u001b[0m\u001b[0;34m,\u001b[0m \u001b[0mcls\u001b[0m\u001b[0;34m)\u001b[0m\u001b[0;34m\u001b[0m\u001b[0;34m\u001b[0m\u001b[0m\n\u001b[0;32m---> 51\u001b[0;31m                 \u001b[0;32mreturn\u001b[0m \u001b[0mwrapped\u001b[0m\u001b[0;34m(\u001b[0m\u001b[0;34m*\u001b[0m\u001b[0margs\u001b[0m\u001b[0;34m,\u001b[0m \u001b[0;34m**\u001b[0m\u001b[0mkwargs\u001b[0m\u001b[0;34m)\u001b[0m\u001b[0;34m\u001b[0m\u001b[0;34m\u001b[0m\u001b[0m\n\u001b[0m\u001b[1;32m     52\u001b[0m \u001b[0;34m\u001b[0m\u001b[0m\n\u001b[1;32m     53\u001b[0m             \u001b[0;31m# Note that the returned function here is no longer a bound method,\u001b[0m\u001b[0;34m\u001b[0m\u001b[0;34m\u001b[0m\u001b[0;34m\u001b[0m\u001b[0m\n",
      "\u001b[0;32m/usr/local/lib/python3.6/dist-packages/torch/optim/adam.py\u001b[0m in \u001b[0;36mstep\u001b[0;34m(self, closure)\u001b[0m\n\u001b[1;32m    105\u001b[0m                 \u001b[0mstep_size\u001b[0m \u001b[0;34m=\u001b[0m \u001b[0mgroup\u001b[0m\u001b[0;34m[\u001b[0m\u001b[0;34m'lr'\u001b[0m\u001b[0;34m]\u001b[0m \u001b[0;34m/\u001b[0m \u001b[0mbias_correction1\u001b[0m\u001b[0;34m\u001b[0m\u001b[0;34m\u001b[0m\u001b[0m\n\u001b[1;32m    106\u001b[0m \u001b[0;34m\u001b[0m\u001b[0m\n\u001b[0;32m--> 107\u001b[0;31m                 \u001b[0mp\u001b[0m\u001b[0;34m.\u001b[0m\u001b[0mdata\u001b[0m\u001b[0;34m.\u001b[0m\u001b[0maddcdiv_\u001b[0m\u001b[0;34m(\u001b[0m\u001b[0;34m-\u001b[0m\u001b[0mstep_size\u001b[0m\u001b[0;34m,\u001b[0m \u001b[0mexp_avg\u001b[0m\u001b[0;34m,\u001b[0m \u001b[0mdenom\u001b[0m\u001b[0;34m)\u001b[0m\u001b[0;34m\u001b[0m\u001b[0;34m\u001b[0m\u001b[0m\n\u001b[0m\u001b[1;32m    108\u001b[0m \u001b[0;34m\u001b[0m\u001b[0m\n\u001b[1;32m    109\u001b[0m         \u001b[0;32mreturn\u001b[0m \u001b[0mloss\u001b[0m\u001b[0;34m\u001b[0m\u001b[0;34m\u001b[0m\u001b[0m\n",
      "\u001b[0;31mKeyboardInterrupt\u001b[0m: "
     ]
    }
   ],
   "source": [
    "train_model(10, 20)"
   ]
  },
  {
   "cell_type": "code",
   "execution_count": 0,
   "metadata": {
    "colab": {
     "base_uri": "https://localhost:8080/",
     "height": 282
    },
    "colab_type": "code",
    "id": "vYkDg2u7cxRr",
    "outputId": "55f6f455-350a-47c1-c95f-351db0998a6c"
   },
   "outputs": [
    {
     "data": {
      "text/plain": [
       "[<matplotlib.lines.Line2D at 0x7f69d07da4a8>]"
      ]
     },
     "execution_count": 13,
     "metadata": {
      "tags": []
     },
     "output_type": "execute_result"
    },
    {
     "data": {
      "image/png": "[encoded data removed]",
      "text/plain": [
       "<Figure size 432x288 with 1 Axes>"
      ]
     },
     "metadata": {
      "tags": []
     },
     "output_type": "display_data"
    }
   ],
   "source": [
    "plt.plot(loss_history)\n",
    "plt.plot(accuracy_history)"
   ]
  },
  {
   "cell_type": "code",
   "execution_count": 0,
   "metadata": {
    "colab": {
     "base_uri": "https://localhost:8080/",
     "height": 34
    },
    "colab_type": "code",
    "id": "sl7F67xpmbON",
    "outputId": "92b6c090-2920-4f32-946a-b83e28799e10"
   },
   "outputs": [
    {
     "data": {
      "text/plain": [
       "tensor(0.8218)"
      ]
     },
     "execution_count": 14,
     "metadata": {
      "tags": []
     },
     "output_type": "execute_result"
    }
   ],
   "source": [
    "sum(accuracy_history)/len(accuracy_history)"
   ]
  },
  {
   "cell_type": "code",
   "execution_count": 0,
   "metadata": {
    "colab": {},
    "colab_type": "code",
    "id": "2Jiv3wjgBFe3"
   },
   "outputs": [],
   "source": [
    "from pydrive.auth import GoogleAuth\n",
    "from pydrive.drive import GoogleDrive\n",
    "from google.colab import auth\n",
    "from oauth2client.client import GoogleCredentials\n",
    "\n",
    "# Authenticate and create the PyDrive client.\n",
    "# This only needs to be done once per notebook.\n",
    "auth.authenticate_user()\n",
    "gauth = GoogleAuth()\n",
    "gauth.credentials = GoogleCredentials.get_application_default()\n",
    "drive = GoogleDrive(gauth)\n",
    "\n",
    "# Download a file based on its file ID.\n",
    "#\n",
    "# A file ID looks like: laggVyWshwcyP6kEI-y_W3P8D26sz\n",
    "file_id = '1kZuFeTf-ZY6cv3J5uCsNbUKOfpkbIbT-'\n",
    "downloaded = drive.CreateFile({'id': file_id})\n",
    "downloaded.GetContentFile('params.txt')"
   ]
  },
  {
   "cell_type": "code",
   "execution_count": 0,
   "metadata": {
    "colab": {
     "base_uri": "https://localhost:8080/",
     "height": 34
    },
    "colab_type": "code",
    "id": "T3FXU9uHBBC1",
    "outputId": "43492981-0839-4076-991a-d4b05958279b"
   },
   "outputs": [
    {
     "data": {
      "text/plain": [
       "<All keys matched successfully>"
      ]
     },
     "execution_count": 10,
     "metadata": {
      "tags": []
     },
     "output_type": "execute_result"
    }
   ],
   "source": [
    "model.load_state_dict(torch.load('params.txt'))"
   ]
  },
  {
   "cell_type": "code",
   "execution_count": 0,
   "metadata": {
    "colab": {},
    "colab_type": "code",
    "id": "yPETCeWDqlTq"
   },
   "outputs": [],
   "source": [
    "import math\n",
    "def validate():\n",
    "    batch_size = 20\n",
    "    accuracy_val = 0\n",
    "    loss_val = 0\n",
    "    start_index = 0\n",
    "    sheet = pd.read_csv('CheXpert-v1.0-small/valid.csv')\n",
    "    model.eval()\n",
    "    num_batches = math.floor(len(sheet['Path'])/batch_size)\n",
    "    while start_index < len(sheet['Path']):\n",
    "        x_batch, y_batch = uploadData(sheet, start_index, batch_size)\n",
    "        start_index +=batch_size\n",
    "        if len(x_batch) < batch_size:\n",
    "          break                #такой случай возможен только для последнего батча, который почти во всех случаях будет неполным\n",
    "       \n",
    "        x_batch, y_batch = transform_list(x_batch, y_batch, device)    \n",
    "        pred = model(x_batch)\n",
    "        pred = torch.sigmoid(pred)\n",
    "        loss_val = loss(pred, y_batch)\n",
    "\n",
    "        pred_classes = evaluateClass(pred)\n",
    "        run_accuracy = evaluateCompetitiveAccuracy(pred_classes, y_batch.data)\n",
    "        run_loss = loss_val.item()\n",
    "        accuracy_val += run_accuracy\n",
    "        loss_val += run_loss\n",
    "        del x_batch\n",
    "        del y_batch\n",
    "        torch.cuda.empty_cache()\n",
    "        if (start_index % 2000 == 0):\n",
    "          print('epoch = ', ep)\n",
    "          print('phase = ', phase)\n",
    "          print(start_index,'accuracy = ', run_accuracy)\n",
    "          print(start_index,'loss = ', run_loss)\n",
    "          print('\\n')\n",
    "    accuracy_val = accuracy_val/num_batches\n",
    "    loss_val = loss_val/num_batches\n",
    "    return (accuracy_val, loss_val)"
   ]
  },
  {
   "cell_type": "code",
   "execution_count": 0,
   "metadata": {
    "colab": {},
    "colab_type": "code",
    "id": "tQ6DAyJor3v3"
   },
   "outputs": [],
   "source": [
    "acc, l = validate()"
   ]
  },
  {
   "cell_type": "code",
   "execution_count": 0,
   "metadata": {
    "colab": {
     "base_uri": "https://localhost:8080/",
     "height": 50
    },
    "colab_type": "code",
    "id": "Xj-bAPtmsBUw",
    "outputId": "a61a288a-f6de-4646-e32b-164a5a3099c9"
   },
   "outputs": [
    {
     "name": "stdout",
     "output_type": "stream",
     "text": [
      "tensor(0.7436)\n",
      "tensor(0.1260, device='cuda:0', grad_fn=<DivBackward0>)\n"
     ]
    }
   ],
   "source": [
    "print(acc)\n",
    "print(l)"
   ]
  },
  {
   "cell_type": "code",
   "execution_count": 0,
   "metadata": {
    "colab": {},
    "colab_type": "code",
    "id": "vOkAZVIAcaRt"
   },
   "outputs": [],
   "source": [
    "torch.save(model.state_dict(), 'paramsDensenet.txt')"
   ]
  },
  {
   "cell_type": "code",
   "execution_count": 0,
   "metadata": {
    "colab": {
     "base_uri": "https://localhost:8080/",
     "height": 34
    },
    "colab_type": "code",
    "id": "1Hnk9m1wNPSn",
    "outputId": "49df6fe5-baad-4104-c1aa-dfb683956704"
   },
   "outputs": [
    {
     "name": "stdout",
     "output_type": "stream",
     "text": [
      "Uploaded file with ID 1kZuFeTf-ZY6cv3J5uCsNbUKOfpkbIbT-\n"
     ]
    }
   ],
   "source": [
    "# Import PyDrive and associated libraries.\n",
    "# This only needs to be done once in a notebook.\n",
    "from pydrive.auth import GoogleAuth\n",
    "from pydrive.drive import GoogleDrive\n",
    "from google.colab import auth\n",
    "from oauth2client.client import GoogleCredentials\n",
    "\n",
    "# Authenticate and create the PyDrive client.\n",
    "# This only needs to be done once in a notebook.\n",
    "auth.authenticate_user()\n",
    "gauth = GoogleAuth()\n",
    "gauth.credentials = GoogleCredentials.get_application_default()\n",
    "drive = GoogleDrive(gauth)\n",
    "\n",
    "# Create & upload a text file.\n",
    "uploaded = drive.CreateFile({'title': 'paramsDensenet.txt'})\n",
    "uploaded.SetContentFile('paramsDensenet.txt')\n",
    "uploaded.Upload()\n",
    "print('Uploaded file with ID {}'.format(uploaded.get('id')))"
   ]
  },
  {
   "cell_type": "code",
   "execution_count": 0,
   "metadata": {
    "colab": {},
    "colab_type": "code",
    "id": "IHTZe_oWVOxS"
   },
   "outputs": [],
   "source": []
  }
 ],
 "metadata": {
  "accelerator": "GPU",
  "colab": {
   "collapsed_sections": [],
   "machine_shape": "hm",
   "name": "ChexpertCompet.ipynb",
   "provenance": []
  },
  "kernelspec": {
   "display_name": "Python 3",
   "language": "python",
   "name": "python3"
  },
  "language_info": {
   "codemirror_mode": {
    "name": "ipython",
    "version": 3
   },
   "file_extension": ".py",
   "mimetype": "text/x-python",
   "name": "python",
   "nbconvert_exporter": "python",
   "pygments_lexer": "ipython3",
   "version": "3.7.4"
  }
 },
 "nbformat": 4,
 "nbformat_minor": 1
}
